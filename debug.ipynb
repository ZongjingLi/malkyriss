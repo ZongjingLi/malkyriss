{
 "cells": [
  {
   "cell_type": "code",
   "execution_count": null,
   "metadata": {},
   "outputs": [
    {
     "name": "stdout",
     "output_type": "stream",
     "text": [
      "torch.Size([3, 8192, 2752]) torch.Size([3, 32, 43, 128, 128])\n"
     ]
    }
   ],
   "source": [
    "import torch\n",
    "import torch.nn as nn\n",
    "from malykriss.cwm.mvae import CounterFactualModel\n",
    "\n",
    "resolution = [128,128]\n",
    "patch_size = [8, 8]\n",
    "channel_dim = 43\n",
    "\n",
    "psi = CounterFactualModel(resolution = resolution, patch_size = patch_size)\n",
    "\n",
    "rand_img = torch.randn([3, 32] + [channel_dim] + resolution )\n",
    "\n",
    "patches = psi.patchify(rand_img)\n",
    "print(patches.shape, rand_img.shape)"
   ]
  }
 ],
 "metadata": {
  "kernelspec": {
   "display_name": "soulforge",
   "language": "python",
   "name": "python3"
  },
  "language_info": {
   "codemirror_mode": {
    "name": "ipython",
    "version": 3
   },
   "file_extension": ".py",
   "mimetype": "text/x-python",
   "name": "python",
   "nbconvert_exporter": "python",
   "pygments_lexer": "ipython3",
   "version": "3.9.21"
  }
 },
 "nbformat": 4,
 "nbformat_minor": 2
}
